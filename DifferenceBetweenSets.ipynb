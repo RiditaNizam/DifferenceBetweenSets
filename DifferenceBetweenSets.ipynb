{
  "nbformat": 4,
  "nbformat_minor": 0,
  "metadata": {
    "colab": {
      "name": "DifferenceBetweenSets.ipynb",
      "provenance": [],
      "authorship_tag": "ABX9TyOiRWYwUtJpYq6ZtYxMQ2TX",
      "include_colab_link": true
    },
    "kernelspec": {
      "name": "python3",
      "display_name": "Python 3"
    },
    "language_info": {
      "name": "python"
    }
  },
  "cells": [
    {
      "cell_type": "markdown",
      "metadata": {
        "id": "view-in-github",
        "colab_type": "text"
      },
      "source": [
        "<a href=\"https://colab.research.google.com/github/RiditaNizam/DifferenceBetweenSets/blob/main/DifferenceBetweenSets.ipynb\" target=\"_parent\"><img src=\"https://colab.research.google.com/assets/colab-badge.svg\" alt=\"Open In Colab\"/></a>"
      ]
    },
    {
      "cell_type": "code",
      "metadata": {
        "colab": {
          "base_uri": "https://localhost:8080/"
        },
        "id": "LlAe7nmh6T1c",
        "outputId": "852cc66f-654a-43d2-da42-bdecac119ed2"
      },
      "source": [
        "group1 = {\"peach\", \"pink\", \"turquoise\"}\n",
        "group2 = {\"ivory\", \"cream\", \"taupe\"}\n",
        "group3 = {\"turquoise\", \"taupe\", \"olive\", \"black\"}\n",
        "\n",
        "difference_in_sets = group3.difference(group1, group2)\n",
        "print(\"The unique elements in group3 that are not in group1 and group2 are\", difference_in_sets)"
      ],
      "execution_count": 4,
      "outputs": [
        {
          "output_type": "stream",
          "text": [
            "The unique elements in group3 that are not in group1 and group2 are {'black', 'olive'}\n"
          ],
          "name": "stdout"
        }
      ]
    }
  ]
}